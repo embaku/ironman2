{
 "cells": [
  {
   "cell_type": "code",
   "execution_count": null,
   "id": "91e76034",
   "metadata": {},
   "outputs": [],
   "source": [
    "import pandas as pd\n",
    "import numpy as np\n",
    "import seaborn as sns\n",
    "import matplotlib.pyplot as plt\n",
    "from sklearn.model_selection import train_test_split, GridSearchCV\n",
    "from sklearn.preprocessing import StandardScaler\n",
    "from sklearn.neighbors import KNeighborsClassifier\n",
    "from sklearn.metrics import confusion_matrix, classification_report, accuracy_score\n",
    "from sklearn import preprocessing\n"
   ]
  },
  {
   "cell_type": "code",
   "execution_count": null,
   "id": "7a60f7be",
   "metadata": {},
   "outputs": [],
   "source": [
    "df = pd.read_csv('//Users//siddharthborgave//Downloads//diabetes.csv')\n",
    "df.info()\n"
   ]
  },
  {
   "cell_type": "code",
   "execution_count": null,
   "id": "1347351d",
   "metadata": {},
   "outputs": [],
   "source": [
    "df.head()"
   ]
  },
  {
   "cell_type": "code",
   "execution_count": null,
   "id": "a8abcca5",
   "metadata": {},
   "outputs": [],
   "source": [
    "df.corr().style.background_gradient(cmap='BuGn')"
   ]
  },
  {
   "cell_type": "code",
   "execution_count": null,
   "id": "f83f529f",
   "metadata": {},
   "outputs": [],
   "source": [
    "df.drop(['BloodPressure', 'SkinThickness'], axis=1, inplace=True)"
   ]
  },
  {
   "cell_type": "code",
   "execution_count": null,
   "id": "0f48cf50",
   "metadata": {},
   "outputs": [],
   "source": [
    "df.isna().sum()\n"
   ]
  },
  {
   "cell_type": "code",
   "execution_count": null,
   "id": "064b6886",
   "metadata": {},
   "outputs": [],
   "source": [
    "df.describe()"
   ]
  },
  {
   "cell_type": "code",
   "execution_count": null,
   "id": "d5ce1021",
   "metadata": {},
   "outputs": [],
   "source": [
    "hist = df.hist(figsize=(20,16))"
   ]
  },
  {
   "cell_type": "code",
   "execution_count": null,
   "id": "543710ab",
   "metadata": {},
   "outputs": [],
   "source": [
    "X=df.iloc[:, :df.shape[1]-1]       #Independent Variables\n",
    "y=df.iloc[:, -1]                   #Dependent Variable\n",
    "X.shape, y.shape\n"
   ]
  },
  {
   "cell_type": "code",
   "execution_count": null,
   "id": "5f4ebe56",
   "metadata": {},
   "outputs": [],
   "source": [
    "X_train, X_test, y_train, y_test = train_test_split(X, y, test_size=0.2, random_state=8)\n",
    "scaler = StandardScaler()\n",
    "X_train = scaler.fit_transform(X_train)\n",
    "X_test = scaler.transform(X_test)\n"
   ]
  },
  {
   "cell_type": "code",
   "execution_count": null,
   "id": "76cd39f4",
   "metadata": {},
   "outputs": [],
   "source": [
    "def knn(X_train, X_test, y_train, y_test, neighbors, power):\n",
    "    model = KNeighborsClassifier(n_neighbors=neighbors, p=power)\n",
    "    # Fit and predict on model\n",
    "    # Model is trained using the train set and predictions are made based on the test set. Accuracy scores are calculated for the model.\n",
    "    y_pred=model.fit(X_train, y_train).predict(X_test)\n",
    "    print(f\"Accuracy for K-Nearest Neighbors model \\t: {accuracy_score(y_test, y_pred)}\")\n",
    "\n",
    "    cm = confusion_matrix(y_test, y_pred)\n",
    "    print(f'''Confusion matrix :\\n\n",
    "    | Positive Prediction\\t| Negative Prediction\n",
    "    ---------------+------------------------+----------------------\n",
    "    Positive Class | True Positive (TP) {cm[0, 0]}\\t| False Negative (FN) {cm[0, 1]}\n",
    "    ---------------+------------------------+----------------------\n",
    "    Negative Class | False Positive (FP) {cm[1, 0]}\\t| True Negative (TN) {cm[1, 1]}\\n''')\n",
    "    cr = classification_report(y_test, y_pred)\n",
    "    print('Classification report : \\n', cr)\n"
   ]
  },
  {
   "cell_type": "code",
   "execution_count": null,
   "id": "23f149b9",
   "metadata": {},
   "outputs": [],
   "source": [
    "param_grid = {\n",
    "    'n_neighbors': range(1, 51),\n",
    "    'p': range(1, 4)\n",
    "}\n",
    "grid = GridSearchCV(estimator=KNeighborsClassifier(), param_grid=param_grid, cv=5)\n",
    "grid.fit(X_train, y_train)\n",
    "grid.best_estimator_, grid.best_params_, grid.best_score_\n"
   ]
  },
  {
   "cell_type": "code",
   "execution_count": null,
   "id": "9e94fdec",
   "metadata": {},
   "outputs": [],
   "source": [
    "knn(X_train, X_test, y_train, y_test, grid.best_params_['n_neighbors'], grid.best_params_['p'])"
   ]
  }
 ],
 "metadata": {
  "kernelspec": {
   "display_name": "Python 3 (ipykernel)",
   "language": "python",
   "name": "python3"
  },
  "language_info": {
   "codemirror_mode": {
    "name": "ipython",
    "version": 3
   },
   "file_extension": ".py",
   "mimetype": "text/x-python",
   "name": "python",
   "nbconvert_exporter": "python",
   "pygments_lexer": "ipython3",
   "version": "3.9.7"
  }
 },
 "nbformat": 4,
 "nbformat_minor": 5
}
