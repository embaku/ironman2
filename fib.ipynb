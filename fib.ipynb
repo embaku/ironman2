{
 "cells": [
  {
   "cell_type": "code",
   "execution_count": 2,
   "id": "fc845f0c",
   "metadata": {},
   "outputs": [
    {
     "name": "stdout",
     "output_type": "stream",
     "text": [
      "Enter length of fibonacci series: 5\n",
      "0 1 1 2 3 "
     ]
    }
   ],
   "source": [
    "import math\n",
    "# Golden ratio\n",
    "gr = (1+math.sqrt(5))/2\n",
    "\n",
    "def fib(n):\n",
    "    for i in range(n):\n",
    "        result = round(pow(gr, i)/math.sqrt(5))\n",
    "        print(result, end=\" \")\n",
    "\n",
    "n = int(input(\"Enter length of fibonacci series: \"))\n",
    "fib(n)"
   ]
  }
 ],
 "metadata": {
  "kernelspec": {
   "display_name": "Python 3 (ipykernel)",
   "language": "python",
   "name": "python3"
  },
  "language_info": {
   "codemirror_mode": {
    "name": "ipython",
    "version": 3
   },
   "file_extension": ".py",
   "mimetype": "text/x-python",
   "name": "python",
   "nbconvert_exporter": "python",
   "pygments_lexer": "ipython3",
   "version": "3.9.7"
  }
 },
 "nbformat": 4,
 "nbformat_minor": 5
}
