{
 "cells": [
  {
   "cell_type": "code",
   "execution_count": null,
   "id": "5e33b3b0",
   "metadata": {},
   "outputs": [],
   "source": [
    "#0/1 Knapsack DP\n",
    "def knapsack(W, wt, val, n):\n",
    "    dp = [0 for i in range(W+1)]\n",
    "    \n",
    "    for i in range(1, n+1):\n",
    "        for w in range(W, 0, -1):\n",
    "            \n",
    "            if wt[i-1] <= w:\n",
    "                dp[w] = max(dp[w], dp[w-wt[i-1]]+val[i-1])\n",
    "        \n",
    "    return dp[W]\n",
    "    \n",
    "\n",
    "val = [60,100,120]\n",
    "wt = [10,20,30]\n",
    "W = 50\n",
    "n = len(val)\n",
    "\n",
    "print(knapsack(W, wt, val, n))"
   ]
  }
 ],
 "metadata": {
  "kernelspec": {
   "display_name": "Python 3 (ipykernel)",
   "language": "python",
   "name": "python3"
  },
  "language_info": {
   "codemirror_mode": {
    "name": "ipython",
    "version": 3
   },
   "file_extension": ".py",
   "mimetype": "text/x-python",
   "name": "python",
   "nbconvert_exporter": "python",
   "pygments_lexer": "ipython3",
   "version": "3.9.7"
  }
 },
 "nbformat": 4,
 "nbformat_minor": 5
}
